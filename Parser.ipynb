{
 "cells": [
  {
   "cell_type": "code",
   "execution_count": 4,
   "metadata": {},
   "outputs": [],
   "source": [
    "import base64\n",
    "\n",
    "import requests\n",
    "\n",
    "from lxml import html as lhtml\n",
    "\n",
    "from tqdm.notebook import tqdm\n",
    "from bs4 import BeautifulSoup\n",
    "from multiprocessing.dummy import Pool as ThreadPool"
   ]
  },
  {
   "cell_type": "code",
   "execution_count": 5,
   "metadata": {},
   "outputs": [],
   "source": [
    "from functools import reduce\n",
    "def concatenate(a,b):\n",
    "    return a + b\n"
   ]
  },
  {
   "cell_type": "code",
   "execution_count": 6,
   "metadata": {},
   "outputs": [],
   "source": [
    "authors_id = [15753,19769,15844,19768,20948,43102,19073,19071,20416,17675,19076,20700,28169,19805,20010,16471,17717,19806,43162,20935,16340,20282,19075,15764,16297,20591,26822,19072,19725,20542,17896,19070,20487,19727,20540]"
   ]
  },
  {
   "cell_type": "code",
   "execution_count": 21,
   "metadata": {
    "scrolled": true
   },
   "outputs": [
    {
     "data": {
      "application/vnd.jupyter.widget-view+json": {
       "model_id": "66984755be7641e7a27622f7f7a2f82f",
       "version_major": 2,
       "version_minor": 0
      },
      "text/plain": [
       "HBox(children=(IntProgress(value=0, max=35), HTML(value='')))"
      ]
     },
     "metadata": {},
     "output_type": "display_data"
    },
    {
     "name": "stdout",
     "output_type": "stream",
     "text": [
      "\n"
     ]
    },
    {
     "data": {
      "application/vnd.jupyter.widget-view+json": {
       "model_id": "d7af5001a7be49a9a6009e86abdc3623",
       "version_major": 2,
       "version_minor": 0
      },
      "text/plain": [
       "HBox(children=(IntProgress(value=0, max=14), HTML(value='')))"
      ]
     },
     "metadata": {},
     "output_type": "display_data"
    },
    {
     "data": {
      "application/vnd.jupyter.widget-view+json": {
       "model_id": "f2e34b94e5d5414a96fe5426ee02542f",
       "version_major": 2,
       "version_minor": 0
      },
      "text/plain": [
       "HBox(children=(IntProgress(value=0, max=14), HTML(value='')))"
      ]
     },
     "metadata": {},
     "output_type": "display_data"
    },
    {
     "data": {
      "application/vnd.jupyter.widget-view+json": {
       "model_id": "1ec48fc05827478eb2d841508a9bd5c4",
       "version_major": 2,
       "version_minor": 0
      },
      "text/plain": [
       "HBox(children=(IntProgress(value=0, max=14), HTML(value='')))"
      ]
     },
     "metadata": {},
     "output_type": "display_data"
    },
    {
     "data": {
      "application/vnd.jupyter.widget-view+json": {
       "model_id": "5f6f46f9e69c4791a1d03391d1ad8d23",
       "version_major": 2,
       "version_minor": 0
      },
      "text/plain": [
       "HBox(children=(IntProgress(value=0, max=14), HTML(value='')))"
      ]
     },
     "metadata": {},
     "output_type": "display_data"
    },
    {
     "data": {
      "application/vnd.jupyter.widget-view+json": {
       "model_id": "83cc733c273c45cfae118ff2d9333aa6",
       "version_major": 2,
       "version_minor": 0
      },
      "text/plain": [
       "HBox(children=(IntProgress(value=0, max=14), HTML(value='')))"
      ]
     },
     "metadata": {},
     "output_type": "display_data"
    },
    {
     "data": {
      "application/vnd.jupyter.widget-view+json": {
       "model_id": "2e867d7a9a324b9995035e813652f632",
       "version_major": 2,
       "version_minor": 0
      },
      "text/plain": [
       "HBox(children=(IntProgress(value=0, max=14), HTML(value='')))"
      ]
     },
     "metadata": {},
     "output_type": "display_data"
    },
    {
     "data": {
      "application/vnd.jupyter.widget-view+json": {
       "model_id": "4baa06681a9648148163e1a8c24e3136",
       "version_major": 2,
       "version_minor": 0
      },
      "text/plain": [
       "HBox(children=(IntProgress(value=0, max=14), HTML(value='')))"
      ]
     },
     "metadata": {},
     "output_type": "display_data"
    },
    {
     "data": {
      "application/vnd.jupyter.widget-view+json": {
       "model_id": "7381559963d0445a907739dbaafb05e1",
       "version_major": 2,
       "version_minor": 0
      },
      "text/plain": [
       "HBox(children=(IntProgress(value=0, max=14), HTML(value='')))"
      ]
     },
     "metadata": {},
     "output_type": "display_data"
    },
    {
     "data": {
      "application/vnd.jupyter.widget-view+json": {
       "model_id": "be3bae79af024824a7491d37600e624e",
       "version_major": 2,
       "version_minor": 0
      },
      "text/plain": [
       "HBox(children=(IntProgress(value=0, max=14), HTML(value='')))"
      ]
     },
     "metadata": {},
     "output_type": "display_data"
    },
    {
     "data": {
      "application/vnd.jupyter.widget-view+json": {
       "model_id": "8901c88c25a84d6d9dc1641320a6ec92",
       "version_major": 2,
       "version_minor": 0
      },
      "text/plain": [
       "HBox(children=(IntProgress(value=0, max=14), HTML(value='')))"
      ]
     },
     "metadata": {},
     "output_type": "display_data"
    },
    {
     "data": {
      "application/vnd.jupyter.widget-view+json": {
       "model_id": "708a2bac5c204d56a3d3257bdf796d77",
       "version_major": 2,
       "version_minor": 0
      },
      "text/plain": [
       "HBox(children=(IntProgress(value=0, max=14), HTML(value='')))"
      ]
     },
     "metadata": {},
     "output_type": "display_data"
    },
    {
     "data": {
      "application/vnd.jupyter.widget-view+json": {
       "model_id": "f6b667a783324f3a9222f9be079ad486",
       "version_major": 2,
       "version_minor": 0
      },
      "text/plain": [
       "HBox(children=(IntProgress(value=0, max=14), HTML(value='')))"
      ]
     },
     "metadata": {},
     "output_type": "display_data"
    },
    {
     "data": {
      "application/vnd.jupyter.widget-view+json": {
       "model_id": "d012e9b2ab704f039771018297af5d0d",
       "version_major": 2,
       "version_minor": 0
      },
      "text/plain": [
       "HBox(children=(IntProgress(value=0, max=14), HTML(value='')))"
      ]
     },
     "metadata": {},
     "output_type": "display_data"
    },
    {
     "data": {
      "application/vnd.jupyter.widget-view+json": {
       "model_id": "a44b43f969374aedae38c983b0db4d57",
       "version_major": 2,
       "version_minor": 0
      },
      "text/plain": [
       "HBox(children=(IntProgress(value=0, max=14), HTML(value='')))"
      ]
     },
     "metadata": {},
     "output_type": "display_data"
    },
    {
     "data": {
      "application/vnd.jupyter.widget-view+json": {
       "model_id": "aaf788b69d664ec6a9f97432b941f561",
       "version_major": 2,
       "version_minor": 0
      },
      "text/plain": [
       "HBox(children=(IntProgress(value=0, max=14), HTML(value='')))"
      ]
     },
     "metadata": {},
     "output_type": "display_data"
    },
    {
     "data": {
      "application/vnd.jupyter.widget-view+json": {
       "model_id": "d8bb77c7cc57406e9b9007341d2be564",
       "version_major": 2,
       "version_minor": 0
      },
      "text/plain": [
       "HBox(children=(IntProgress(value=0, max=14), HTML(value='')))"
      ]
     },
     "metadata": {},
     "output_type": "display_data"
    },
    {
     "data": {
      "application/vnd.jupyter.widget-view+json": {
       "model_id": "07981e029c34481cb073cb2aa7737b06",
       "version_major": 2,
       "version_minor": 0
      },
      "text/plain": [
       "HBox(children=(IntProgress(value=0, max=14), HTML(value='')))"
      ]
     },
     "metadata": {},
     "output_type": "display_data"
    },
    {
     "data": {
      "application/vnd.jupyter.widget-view+json": {
       "model_id": "1d7ea525bf894fb092a2094c9083fddd",
       "version_major": 2,
       "version_minor": 0
      },
      "text/plain": [
       "HBox(children=(IntProgress(value=0, max=14), HTML(value='')))"
      ]
     },
     "metadata": {},
     "output_type": "display_data"
    },
    {
     "data": {
      "application/vnd.jupyter.widget-view+json": {
       "model_id": "2f95d5290f3c4375adec6ab367d8337a",
       "version_major": 2,
       "version_minor": 0
      },
      "text/plain": [
       "HBox(children=(IntProgress(value=0, max=14), HTML(value='')))"
      ]
     },
     "metadata": {},
     "output_type": "display_data"
    },
    {
     "data": {
      "application/vnd.jupyter.widget-view+json": {
       "model_id": "f75d09339d944ccbac48890f46028d0f",
       "version_major": 2,
       "version_minor": 0
      },
      "text/plain": [
       "HBox(children=(IntProgress(value=0, max=14), HTML(value='')))"
      ]
     },
     "metadata": {},
     "output_type": "display_data"
    },
    {
     "data": {
      "application/vnd.jupyter.widget-view+json": {
       "model_id": "5b84e03d87394813a53411f88109a459",
       "version_major": 2,
       "version_minor": 0
      },
      "text/plain": [
       "HBox(children=(IntProgress(value=0, max=14), HTML(value='')))"
      ]
     },
     "metadata": {},
     "output_type": "display_data"
    },
    {
     "data": {
      "application/vnd.jupyter.widget-view+json": {
       "model_id": "a6cd39f77aea4cc7974c25035ebd819c",
       "version_major": 2,
       "version_minor": 0
      },
      "text/plain": [
       "HBox(children=(IntProgress(value=0, max=14), HTML(value='')))"
      ]
     },
     "metadata": {},
     "output_type": "display_data"
    },
    {
     "data": {
      "application/vnd.jupyter.widget-view+json": {
       "model_id": "baad7b9ed99b4edea39467b4f0f697c1",
       "version_major": 2,
       "version_minor": 0
      },
      "text/plain": [
       "HBox(children=(IntProgress(value=0, max=14), HTML(value='')))"
      ]
     },
     "metadata": {},
     "output_type": "display_data"
    },
    {
     "data": {
      "application/vnd.jupyter.widget-view+json": {
       "model_id": "f5d5076d55ca49608e6d33a295dd484a",
       "version_major": 2,
       "version_minor": 0
      },
      "text/plain": [
       "HBox(children=(IntProgress(value=0, max=14), HTML(value='')))"
      ]
     },
     "metadata": {},
     "output_type": "display_data"
    },
    {
     "data": {
      "application/vnd.jupyter.widget-view+json": {
       "model_id": "58ba87e4717240aab431ad7bdc26d21c",
       "version_major": 2,
       "version_minor": 0
      },
      "text/plain": [
       "HBox(children=(IntProgress(value=0, max=14), HTML(value='')))"
      ]
     },
     "metadata": {},
     "output_type": "display_data"
    },
    {
     "data": {
      "application/vnd.jupyter.widget-view+json": {
       "model_id": "51c1e062fa69450491383d031c831588",
       "version_major": 2,
       "version_minor": 0
      },
      "text/plain": [
       "HBox(children=(IntProgress(value=0, max=14), HTML(value='')))"
      ]
     },
     "metadata": {},
     "output_type": "display_data"
    },
    {
     "data": {
      "application/vnd.jupyter.widget-view+json": {
       "model_id": "9dff705b28914910a1b2ca6d5b479969",
       "version_major": 2,
       "version_minor": 0
      },
      "text/plain": [
       "HBox(children=(IntProgress(value=0, max=14), HTML(value='')))"
      ]
     },
     "metadata": {},
     "output_type": "display_data"
    },
    {
     "data": {
      "application/vnd.jupyter.widget-view+json": {
       "model_id": "09e75964d75f481a98b49751e1d158e9",
       "version_major": 2,
       "version_minor": 0
      },
      "text/plain": [
       "HBox(children=(IntProgress(value=0, max=14), HTML(value='')))"
      ]
     },
     "metadata": {},
     "output_type": "display_data"
    },
    {
     "data": {
      "application/vnd.jupyter.widget-view+json": {
       "model_id": "cec835b181684fb5973410a89f561468",
       "version_major": 2,
       "version_minor": 0
      },
      "text/plain": [
       "HBox(children=(IntProgress(value=0, max=14), HTML(value='')))"
      ]
     },
     "metadata": {},
     "output_type": "display_data"
    },
    {
     "data": {
      "application/vnd.jupyter.widget-view+json": {
       "model_id": "b87d0610b9234b7d946de3f932518ed2",
       "version_major": 2,
       "version_minor": 0
      },
      "text/plain": [
       "HBox(children=(IntProgress(value=0, max=14), HTML(value='')))"
      ]
     },
     "metadata": {},
     "output_type": "display_data"
    },
    {
     "data": {
      "application/vnd.jupyter.widget-view+json": {
       "model_id": "d419385cf1a44f2a8e2f691e3278142d",
       "version_major": 2,
       "version_minor": 0
      },
      "text/plain": [
       "HBox(children=(IntProgress(value=0, max=14), HTML(value='')))"
      ]
     },
     "metadata": {},
     "output_type": "display_data"
    },
    {
     "data": {
      "application/vnd.jupyter.widget-view+json": {
       "model_id": "87caa3e2e1a8444090b11b64a9a8a383",
       "version_major": 2,
       "version_minor": 0
      },
      "text/plain": [
       "HBox(children=(IntProgress(value=0, max=14), HTML(value='')))"
      ]
     },
     "metadata": {},
     "output_type": "display_data"
    },
    {
     "data": {
      "application/vnd.jupyter.widget-view+json": {
       "model_id": "b27d99cc4e4444b7867ea51b49bae853",
       "version_major": 2,
       "version_minor": 0
      },
      "text/plain": [
       "HBox(children=(IntProgress(value=0, max=14), HTML(value='')))"
      ]
     },
     "metadata": {},
     "output_type": "display_data"
    },
    {
     "data": {
      "application/vnd.jupyter.widget-view+json": {
       "model_id": "5941d8845d744cca856309a945137948",
       "version_major": 2,
       "version_minor": 0
      },
      "text/plain": [
       "HBox(children=(IntProgress(value=0, max=14), HTML(value='')))"
      ]
     },
     "metadata": {},
     "output_type": "display_data"
    },
    {
     "data": {
      "application/vnd.jupyter.widget-view+json": {
       "model_id": "4e8b4d421d764665857e54b09ef0f637",
       "version_major": 2,
       "version_minor": 0
      },
      "text/plain": [
       "HBox(children=(IntProgress(value=0, max=14), HTML(value='')))"
      ]
     },
     "metadata": {},
     "output_type": "display_data"
    },
    {
     "name": "stdout",
     "output_type": "stream",
     "text": [
      "\n",
      "\n",
      "\n",
      "\n",
      "\n",
      "\n",
      "\n",
      "\n",
      "\n"
     ]
    },
    {
     "name": "stderr",
     "output_type": "stream",
     "text": [
      "Exception in thread Thread-6:\n",
      "Traceback (most recent call last):\n",
      "  File \"C:\\Users\\User\\Anaconda3\\lib\\threading.py\", line 926, in _bootstrap_inner\n",
      "    self.run()\n",
      "  File \"C:\\Users\\User\\Anaconda3\\lib\\site-packages\\tqdm\\_monitor.py\", line 78, in run\n",
      "    instances = self.get_instances()\n",
      "  File \"C:\\Users\\User\\Anaconda3\\lib\\site-packages\\tqdm\\_monitor.py\", line 58, in get_instances\n",
      "    return [i for i in self.tqdm_cls._instances.copy()\n",
      "  File \"C:\\Users\\User\\Anaconda3\\lib\\_weakrefset.py\", line 92, in copy\n",
      "    return self.__class__(self)\n",
      "  File \"C:\\Users\\User\\Anaconda3\\lib\\_weakrefset.py\", line 50, in __init__\n",
      "    self.update(data)\n",
      "  File \"C:\\Users\\User\\Anaconda3\\lib\\_weakrefset.py\", line 119, in update\n",
      "    for element in other:\n",
      "  File \"C:\\Users\\User\\Anaconda3\\lib\\_weakrefset.py\", line 60, in __iter__\n",
      "    for itemref in self.data:\n",
      "RuntimeError: Set changed size during iteration\n",
      "\n"
     ]
    }
   ],
   "source": [
    "\n",
    "def get_urls(author_id):\n",
    "    urls = []\n",
    "    MAX_PAGES_ON_EYE = 15\n",
    "    for i in tqdm(range(1, MAX_PAGES_ON_EYE)):\n",
    "        page = requests.get('https://www.respublica.ru/authors/{}'.format(author_id),data = {'a_p': True,\n",
    "                                                                              'page': i,\n",
    "                                                                              'ajax_append_page': True})\n",
    "        if not page.ok:\n",
    "            print(page.status_code, i)\n",
    "        tree = lhtml.fromstring(page.content)\n",
    "        page_urls = tree.xpath('//div/a[@alt][@href][@title]/attribute::href')\n",
    "        if not page_urls:\n",
    "            break\n",
    "        urls.extend(page_urls)\n",
    "    #len(urls)\n",
    "    return urls\n",
    "#all_urls = list(map(get_urls,tqdm(authors_id)))\n",
    "with ThreadPool(10) as pool:\n",
    "    all_urls = pool.map(get_urls,tqdm(authors_id))\n",
    "#pool.join()\n",
    "all_urls = reduce(concatenate,all_urls)"
   ]
  },
  {
   "cell_type": "code",
   "execution_count": 22,
   "metadata": {},
   "outputs": [],
   "source": [
    "\n",
    "with ThreadPool(10) as pool:\n",
    "    urls = pool.map(lambda x:'https://www.respublica.ru' + x, all_urls)\n"
   ]
  },
  {
   "cell_type": "code",
   "execution_count": 23,
   "metadata": {},
   "outputs": [
    {
     "data": {
      "text/plain": [
       "2461"
      ]
     },
     "execution_count": 23,
     "metadata": {},
     "output_type": "execute_result"
    }
   ],
   "source": [
    "len(urls)#urls = list(map(lambda x:'https://www.respublica.ru' + x, urls))"
   ]
  },
  {
   "cell_type": "code",
   "execution_count": 11,
   "metadata": {},
   "outputs": [],
   "source": [
    "def process_page(url):\n",
    "    page = requests.get(url)\n",
    "    tree = lhtml.fromstring(page.content)\n",
    "    \n",
    "    book_id = tree.xpath('//div/span[@itemprop=\"sku\"]/text()')\n",
    "    book_id = ''.join(book_id)\n",
    "    title = tree.xpath('//h1[@itemprop=\"name\"]/text()')\n",
    "    title = ''.join(title)\n",
    "    author = tree.xpath('//div/a[@itemprop=\"brand\"]/text()')\n",
    "    author = ''.join(author)\n",
    "    preview = tree.xpath('//div/a[@class=\"download-pdf\"]/attribute::href')\n",
    "    preview = ('https://www.respublica.ru'+''.join(preview))\n",
    "    image = tree.xpath('//link[@href][@rel=\"image_src\"]/attribute::href')\n",
    "    image = ''.join(image)\n",
    "    description = tree.xpath('//div[@itemprop=\"description\"]/p/text()')\n",
    "    description = ''.join(description)\n",
    "    price = tree.xpath('//div[@class=\"rd-page-product__price\"]/span/text()')\n",
    "    price = ''.join(price)\n",
    "    price_old = tree.xpath('//div[@class=\"rd-page-product__price-old\"]/span/text()')\n",
    "    price_old = ''.join(price_old)\n",
    "    category = tree.xpath('//div[contains(@class, \"rd-page-product__breadcrumbs\")]//span[@itemprop=\"name\"]/text()')\n",
    "    category = ';'.join(category)\n",
    "    instock = tree.xpath('//div[@class=\"rd-page-product__buttons\"]/a[contains(@class, rd-page-product__buy)]/attribute::class')\n",
    "    instock = list(map(str,instock[0].split()))\n",
    "    if instock[1]=='rd-page-product__buy_status_available':\n",
    "        instock = True\n",
    "    else:\n",
    "        instock = False\n",
    "    review_count = tree.xpath('//div[@class=\"rd-rating-stars\"]/span/meta[@itemprop=\"reviewCount\"]/attribute::content')\n",
    "    review_count = ''.join(review_count)\n",
    "    rating_count = tree.xpath('//div[@class=\"rd-rating-stars\"]/span/meta[@itemprop=\"ratingCount\"]/attribute::content')\n",
    "    rating_count = ''.join(rating_count)\n",
    "    rating = tree.xpath('//div[@class=\"rd-rating-stars\"]/span/meta[@itemprop=\"ratingValue\"]/attribute::content')\n",
    "    rating = ''.join(rating)\n",
    "    info = {\n",
    "        \"ID\": book_id,\n",
    "        \"URL\": url,\n",
    "        \"Название\": title,\n",
    "        \"Автор\": author,\n",
    "        \"Превью\": preview,\n",
    "        \"Изображение\": image,\n",
    "        \"Описание\": description,\n",
    "        \"Цена\": price,\n",
    "        \"Цена (старая)\": price_old,\n",
    "        \"В наличии\": instock,\n",
    "        \"Категория\": category,\n",
    "        \"Число отзывов\": review_count,\n",
    "        \"Число оценок\": rating_count,\n",
    "        \"Оценка\": rating,\n",
    "    }\n",
    "    index = tree.xpath('//div[@class=\"rd-page-product__desc-params\"]/p/span[contains(@itemprop, \"name\")]/text()')\n",
    "    params = tree.xpath('//div[@class=\"rd-page-product__desc-params\"]/p/span[contains(@itemprop, \"value\")]/text()|//div[@class=\"rd-page-product__desc-params\"]/p/a[contains(@itemprop, \"value\")]/text()')\n",
    "    par = {index[i]:params[i] for i in range(len(index))}\n",
    "    info = {**info,**par}\n",
    "    return info"
   ]
  },
  {
   "cell_type": "code",
   "execution_count": 19,
   "metadata": {
    "scrolled": true
   },
   "outputs": [
    {
     "data": {
      "application/vnd.jupyter.widget-view+json": {
       "model_id": "ab9e68fbf28145548c4a1cbfde862713",
       "version_major": 2,
       "version_minor": 0
      },
      "text/plain": [
       "HBox(children=(IntProgress(value=0, max=2461), HTML(value='')))"
      ]
     },
     "metadata": {},
     "output_type": "display_data"
    },
    {
     "name": "stdout",
     "output_type": "stream",
     "text": [
      "\n"
     ]
    }
   ],
   "source": [
    "import pandas as pd\n",
    "with ThreadPool(10) as pool:\n",
    "    result = pool.map(process_page, tqdm(urls))\n",
    "df = pd.DataFrame(result)\n",
    "df.sort_values(by=['ID'], inplace=True)\n",
    "\n",
    "with open('data/hw_3.csv', mode='w', encoding='utf-8') as f_csv:\n",
    "    df.to_csv(f_csv, index=False)"
   ]
  },
  {
   "cell_type": "code",
   "execution_count": 20,
   "metadata": {},
   "outputs": [],
   "source": [
    "#print(result[::10])"
   ]
  },
  {
   "cell_type": "code",
   "execution_count": 16,
   "metadata": {},
   "outputs": [
    {
     "data": {
      "text/html": [
       "<div>\n",
       "<style scoped>\n",
       "    .dataframe tbody tr th:only-of-type {\n",
       "        vertical-align: middle;\n",
       "    }\n",
       "\n",
       "    .dataframe tbody tr th {\n",
       "        vertical-align: top;\n",
       "    }\n",
       "\n",
       "    .dataframe thead th {\n",
       "        text-align: right;\n",
       "    }\n",
       "</style>\n",
       "<table border=\"1\" class=\"dataframe\">\n",
       "  <thead>\n",
       "    <tr style=\"text-align: right;\">\n",
       "      <th></th>\n",
       "      <th>ID</th>\n",
       "      <th>URL</th>\n",
       "      <th>Название</th>\n",
       "      <th>Автор</th>\n",
       "      <th>Превью</th>\n",
       "      <th>Изображение</th>\n",
       "      <th>Описание</th>\n",
       "      <th>Цена</th>\n",
       "      <th>Цена (старая)</th>\n",
       "      <th>В наличии</th>\n",
       "      <th>...</th>\n",
       "      <th>Иллюстратор</th>\n",
       "      <th>Тип</th>\n",
       "      <th>Вид бумаги</th>\n",
       "      <th>Материал</th>\n",
       "      <th>Размер, см</th>\n",
       "      <th>Пол</th>\n",
       "      <th>Назначение</th>\n",
       "      <th>Тематика</th>\n",
       "      <th>Упаковка</th>\n",
       "      <th>Рисунок</th>\n",
       "    </tr>\n",
       "  </thead>\n",
       "  <tbody>\n",
       "    <tr>\n",
       "      <td>2069</td>\n",
       "      <td>000033</td>\n",
       "      <td>https://www.respublica.ru/knigi/hudozhestvenna...</td>\n",
       "      <td>Много шума из ничего</td>\n",
       "      <td>Уильям Шекспир</td>\n",
       "      <td>https://www.respublica.ru</td>\n",
       "      <td>https://www.respublica.ru/uploads/00/00/00/cq/...</td>\n",
       "      <td>Книга «Много шума из ничего» (Уильям Шекспир) ...</td>\n",
       "      <td>100</td>\n",
       "      <td>140</td>\n",
       "      <td>False</td>\n",
       "      <td>...</td>\n",
       "      <td>NaN</td>\n",
       "      <td>NaN</td>\n",
       "      <td>NaN</td>\n",
       "      <td>NaN</td>\n",
       "      <td>NaN</td>\n",
       "      <td>NaN</td>\n",
       "      <td>NaN</td>\n",
       "      <td>NaN</td>\n",
       "      <td>NaN</td>\n",
       "      <td>NaN</td>\n",
       "    </tr>\n",
       "    <tr>\n",
       "      <td>2068</td>\n",
       "      <td>000056</td>\n",
       "      <td>https://www.respublica.ru/knigi/hudozhestvenna...</td>\n",
       "      <td>Двенадцатая ночь</td>\n",
       "      <td>Уильям Шекспир</td>\n",
       "      <td>https://www.respublica.ru</td>\n",
       "      <td>https://www.respublica.ru/uploads/01/00/00/24/...</td>\n",
       "      <td>Книга «Двенадцатая ночь» (Уильям Шекспир) от и...</td>\n",
       "      <td>100</td>\n",
       "      <td>140</td>\n",
       "      <td>False</td>\n",
       "      <td>...</td>\n",
       "      <td>NaN</td>\n",
       "      <td>NaN</td>\n",
       "      <td>NaN</td>\n",
       "      <td>NaN</td>\n",
       "      <td>NaN</td>\n",
       "      <td>NaN</td>\n",
       "      <td>NaN</td>\n",
       "      <td>NaN</td>\n",
       "      <td>NaN</td>\n",
       "      <td>NaN</td>\n",
       "    </tr>\n",
       "    <tr>\n",
       "      <td>1854</td>\n",
       "      <td>021678</td>\n",
       "      <td>https://www.respublica.ru/knigi/hudozhestvenna...</td>\n",
       "      <td>N or M?</td>\n",
       "      <td>Agatha Christie</td>\n",
       "      <td>https://www.respublica.ru</td>\n",
       "      <td>https://www.respublica.ru/uploads/00/00/00/68/...</td>\n",
       "      <td>Tommy &amp; Tuppence are hired to track down warti...</td>\n",
       "      <td>610</td>\n",
       "      <td></td>\n",
       "      <td>False</td>\n",
       "      <td>...</td>\n",
       "      <td>NaN</td>\n",
       "      <td>NaN</td>\n",
       "      <td>NaN</td>\n",
       "      <td>NaN</td>\n",
       "      <td>NaN</td>\n",
       "      <td>NaN</td>\n",
       "      <td>NaN</td>\n",
       "      <td>NaN</td>\n",
       "      <td>NaN</td>\n",
       "      <td>NaN</td>\n",
       "    </tr>\n",
       "    <tr>\n",
       "      <td>1851</td>\n",
       "      <td>021679</td>\n",
       "      <td>https://www.respublica.ru/knigi/hudozhestvenna...</td>\n",
       "      <td>The Secret Adversary</td>\n",
       "      <td>Agatha Christie</td>\n",
       "      <td>https://www.respublica.ru</td>\n",
       "      <td>https://www.respublica.ru/uploads/00/00/00/68/...</td>\n",
       "      <td>Agatha Christie's first Tommy and Tuppence mys...</td>\n",
       "      <td>610</td>\n",
       "      <td></td>\n",
       "      <td>False</td>\n",
       "      <td>...</td>\n",
       "      <td>NaN</td>\n",
       "      <td>NaN</td>\n",
       "      <td>NaN</td>\n",
       "      <td>NaN</td>\n",
       "      <td>NaN</td>\n",
       "      <td>NaN</td>\n",
       "      <td>NaN</td>\n",
       "      <td>NaN</td>\n",
       "      <td>NaN</td>\n",
       "      <td>NaN</td>\n",
       "    </tr>\n",
       "    <tr>\n",
       "      <td>1877</td>\n",
       "      <td>021680</td>\n",
       "      <td>https://www.respublica.ru/knigi/hudozhestvenna...</td>\n",
       "      <td>By the Pricking of My Thumbs</td>\n",
       "      <td>Agatha Christie</td>\n",
       "      <td>https://www.respublica.ru</td>\n",
       "      <td>https://www.respublica.ru/uploads/01/00/00/68/...</td>\n",
       "      <td>An old woman in a nursing home speaks of a chi...</td>\n",
       "      <td>510</td>\n",
       "      <td>610</td>\n",
       "      <td>False</td>\n",
       "      <td>...</td>\n",
       "      <td>NaN</td>\n",
       "      <td>NaN</td>\n",
       "      <td>NaN</td>\n",
       "      <td>NaN</td>\n",
       "      <td>NaN</td>\n",
       "      <td>NaN</td>\n",
       "      <td>NaN</td>\n",
       "      <td>NaN</td>\n",
       "      <td>NaN</td>\n",
       "      <td>NaN</td>\n",
       "    </tr>\n",
       "    <tr>\n",
       "      <td>...</td>\n",
       "      <td>...</td>\n",
       "      <td>...</td>\n",
       "      <td>...</td>\n",
       "      <td>...</td>\n",
       "      <td>...</td>\n",
       "      <td>...</td>\n",
       "      <td>...</td>\n",
       "      <td>...</td>\n",
       "      <td>...</td>\n",
       "      <td>...</td>\n",
       "      <td>...</td>\n",
       "      <td>...</td>\n",
       "      <td>...</td>\n",
       "      <td>...</td>\n",
       "      <td>...</td>\n",
       "      <td>...</td>\n",
       "      <td>...</td>\n",
       "      <td>...</td>\n",
       "      <td>...</td>\n",
       "      <td>...</td>\n",
       "      <td>...</td>\n",
       "    </tr>\n",
       "    <tr>\n",
       "      <td>2032</td>\n",
       "      <td>532521</td>\n",
       "      <td>https://www.respublica.ru/knigi/hudozhestvenna...</td>\n",
       "      <td>Трагедии</td>\n",
       "      <td>Уильям Шекспир</td>\n",
       "      <td>https://www.respublica.ru</td>\n",
       "      <td>https://www.respublica.ru/uploads/01/00/00/dp/...</td>\n",
       "      <td>Из века в век люди ищут ответа на вопрос, в че...</td>\n",
       "      <td>740</td>\n",
       "      <td></td>\n",
       "      <td>False</td>\n",
       "      <td>...</td>\n",
       "      <td>NaN</td>\n",
       "      <td>NaN</td>\n",
       "      <td>NaN</td>\n",
       "      <td>NaN</td>\n",
       "      <td>NaN</td>\n",
       "      <td>NaN</td>\n",
       "      <td>NaN</td>\n",
       "      <td>NaN</td>\n",
       "      <td>NaN</td>\n",
       "      <td>NaN</td>\n",
       "    </tr>\n",
       "    <tr>\n",
       "      <td>2416</td>\n",
       "      <td>532523</td>\n",
       "      <td>https://www.respublica.ru/knigi/detskie-knigi/...</td>\n",
       "      <td>Пеппи Длинныйчулок в стране Веселии</td>\n",
       "      <td>Астрид Линдгрен</td>\n",
       "      <td>https://www.respublica.ru</td>\n",
       "      <td>https://www.respublica.ru/uploads/01/00/00/dp/...</td>\n",
       "      <td>Озорная девчонка Пеппи Длинныйчулок объездила ...</td>\n",
       "      <td>660</td>\n",
       "      <td></td>\n",
       "      <td>True</td>\n",
       "      <td>...</td>\n",
       "      <td>NaN</td>\n",
       "      <td>NaN</td>\n",
       "      <td>NaN</td>\n",
       "      <td>NaN</td>\n",
       "      <td>NaN</td>\n",
       "      <td>NaN</td>\n",
       "      <td>NaN</td>\n",
       "      <td>NaN</td>\n",
       "      <td>NaN</td>\n",
       "      <td>NaN</td>\n",
       "    </tr>\n",
       "    <tr>\n",
       "      <td>2415</td>\n",
       "      <td>532529</td>\n",
       "      <td>https://www.respublica.ru/knigi/detskie-knigi/...</td>\n",
       "      <td>Приключения Эмиля из Лённеберги</td>\n",
       "      <td>Астрид Линдгрен</td>\n",
       "      <td>https://www.respublica.ru</td>\n",
       "      <td>https://www.respublica.ru/uploads/01/00/00/dp/...</td>\n",
       "      <td>Весёлая повесть про Эмиля из Лённеберги, котор...</td>\n",
       "      <td>680</td>\n",
       "      <td></td>\n",
       "      <td>True</td>\n",
       "      <td>...</td>\n",
       "      <td>NaN</td>\n",
       "      <td>NaN</td>\n",
       "      <td>NaN</td>\n",
       "      <td>NaN</td>\n",
       "      <td>NaN</td>\n",
       "      <td>NaN</td>\n",
       "      <td>NaN</td>\n",
       "      <td>NaN</td>\n",
       "      <td>NaN</td>\n",
       "      <td>NaN</td>\n",
       "    </tr>\n",
       "    <tr>\n",
       "      <td>1987</td>\n",
       "      <td>8121280</td>\n",
       "      <td>https://www.respublica.ru/knigi/hudozhestvenna...</td>\n",
       "      <td>Завтрашний день кошки</td>\n",
       "      <td>Бернар Вербер</td>\n",
       "      <td>https://www.respublica.ru</td>\n",
       "      <td>https://www.respublica.ru/uploads/01/00/00/6h/...</td>\n",
       "      <td>Книга «Завтрашний день кошки» (Бернар Вербер) ...</td>\n",
       "      <td>430</td>\n",
       "      <td></td>\n",
       "      <td>False</td>\n",
       "      <td>...</td>\n",
       "      <td>NaN</td>\n",
       "      <td>NaN</td>\n",
       "      <td>NaN</td>\n",
       "      <td>NaN</td>\n",
       "      <td>NaN</td>\n",
       "      <td>NaN</td>\n",
       "      <td>NaN</td>\n",
       "      <td>NaN</td>\n",
       "      <td>NaN</td>\n",
       "      <td>NaN</td>\n",
       "    </tr>\n",
       "    <tr>\n",
       "      <td>2067</td>\n",
       "      <td>A005524</td>\n",
       "      <td>https://www.respublica.ru/knigi/hudozhestvenna...</td>\n",
       "      <td>Сон в летнюю ночь</td>\n",
       "      <td>Уильям Шекспир</td>\n",
       "      <td>https://www.respublica.ru</td>\n",
       "      <td>https://www.respublica.ru/uploads/00/00/00/33/...</td>\n",
       "      <td>Книга «Сон в летнюю ночь» (Уильям Шекспир) от ...</td>\n",
       "      <td>100</td>\n",
       "      <td></td>\n",
       "      <td>False</td>\n",
       "      <td>...</td>\n",
       "      <td>NaN</td>\n",
       "      <td>NaN</td>\n",
       "      <td>NaN</td>\n",
       "      <td>NaN</td>\n",
       "      <td>NaN</td>\n",
       "      <td>NaN</td>\n",
       "      <td>NaN</td>\n",
       "      <td>NaN</td>\n",
       "      <td>NaN</td>\n",
       "      <td>NaN</td>\n",
       "    </tr>\n",
       "  </tbody>\n",
       "</table>\n",
       "<p>2461 rows × 41 columns</p>\n",
       "</div>"
      ],
      "text/plain": [
       "           ID                                                URL  \\\n",
       "2069   000033  https://www.respublica.ru/knigi/hudozhestvenna...   \n",
       "2068   000056  https://www.respublica.ru/knigi/hudozhestvenna...   \n",
       "1854   021678  https://www.respublica.ru/knigi/hudozhestvenna...   \n",
       "1851   021679  https://www.respublica.ru/knigi/hudozhestvenna...   \n",
       "1877   021680  https://www.respublica.ru/knigi/hudozhestvenna...   \n",
       "...       ...                                                ...   \n",
       "2032   532521  https://www.respublica.ru/knigi/hudozhestvenna...   \n",
       "2416   532523  https://www.respublica.ru/knigi/detskie-knigi/...   \n",
       "2415   532529  https://www.respublica.ru/knigi/detskie-knigi/...   \n",
       "1987  8121280  https://www.respublica.ru/knigi/hudozhestvenna...   \n",
       "2067  A005524  https://www.respublica.ru/knigi/hudozhestvenna...   \n",
       "\n",
       "                                 Название            Автор  \\\n",
       "2069                 Много шума из ничего   Уильям Шекспир   \n",
       "2068                     Двенадцатая ночь   Уильям Шекспир   \n",
       "1854                              N or M?  Agatha Christie   \n",
       "1851                 The Secret Adversary  Agatha Christie   \n",
       "1877         By the Pricking of My Thumbs  Agatha Christie   \n",
       "...                                   ...              ...   \n",
       "2032                             Трагедии   Уильям Шекспир   \n",
       "2416  Пеппи Длинныйчулок в стране Веселии  Астрид Линдгрен   \n",
       "2415      Приключения Эмиля из Лённеберги  Астрид Линдгрен   \n",
       "1987                Завтрашний день кошки    Бернар Вербер   \n",
       "2067                    Сон в летнюю ночь   Уильям Шекспир   \n",
       "\n",
       "                         Превью  \\\n",
       "2069  https://www.respublica.ru   \n",
       "2068  https://www.respublica.ru   \n",
       "1854  https://www.respublica.ru   \n",
       "1851  https://www.respublica.ru   \n",
       "1877  https://www.respublica.ru   \n",
       "...                         ...   \n",
       "2032  https://www.respublica.ru   \n",
       "2416  https://www.respublica.ru   \n",
       "2415  https://www.respublica.ru   \n",
       "1987  https://www.respublica.ru   \n",
       "2067  https://www.respublica.ru   \n",
       "\n",
       "                                            Изображение  \\\n",
       "2069  https://www.respublica.ru/uploads/00/00/00/cq/...   \n",
       "2068  https://www.respublica.ru/uploads/01/00/00/24/...   \n",
       "1854  https://www.respublica.ru/uploads/00/00/00/68/...   \n",
       "1851  https://www.respublica.ru/uploads/00/00/00/68/...   \n",
       "1877  https://www.respublica.ru/uploads/01/00/00/68/...   \n",
       "...                                                 ...   \n",
       "2032  https://www.respublica.ru/uploads/01/00/00/dp/...   \n",
       "2416  https://www.respublica.ru/uploads/01/00/00/dp/...   \n",
       "2415  https://www.respublica.ru/uploads/01/00/00/dp/...   \n",
       "1987  https://www.respublica.ru/uploads/01/00/00/6h/...   \n",
       "2067  https://www.respublica.ru/uploads/00/00/00/33/...   \n",
       "\n",
       "                                               Описание Цена Цена (старая)  \\\n",
       "2069  Книга «Много шума из ничего» (Уильям Шекспир) ...  100          140    \n",
       "2068  Книга «Двенадцатая ночь» (Уильям Шекспир) от и...  100          140    \n",
       "1854  Tommy & Tuppence are hired to track down warti...  610                 \n",
       "1851  Agatha Christie's first Tommy and Tuppence mys...  610                 \n",
       "1877  An old woman in a nursing home speaks of a chi...  510          610    \n",
       "...                                                 ...  ...           ...   \n",
       "2032  Из века в век люди ищут ответа на вопрос, в че...  740                 \n",
       "2416  Озорная девчонка Пеппи Длинныйчулок объездила ...  660                 \n",
       "2415  Весёлая повесть про Эмиля из Лённеберги, котор...  680                 \n",
       "1987  Книга «Завтрашний день кошки» (Бернар Вербер) ...  430                 \n",
       "2067  Книга «Сон в летнюю ночь» (Уильям Шекспир) от ...  100                 \n",
       "\n",
       "      В наличии  ... Иллюстратор  Тип Вид бумаги Материал Размер, см  Пол  \\\n",
       "2069      False  ...         NaN  NaN        NaN      NaN        NaN  NaN   \n",
       "2068      False  ...         NaN  NaN        NaN      NaN        NaN  NaN   \n",
       "1854      False  ...         NaN  NaN        NaN      NaN        NaN  NaN   \n",
       "1851      False  ...         NaN  NaN        NaN      NaN        NaN  NaN   \n",
       "1877      False  ...         NaN  NaN        NaN      NaN        NaN  NaN   \n",
       "...         ...  ...         ...  ...        ...      ...        ...  ...   \n",
       "2032      False  ...         NaN  NaN        NaN      NaN        NaN  NaN   \n",
       "2416       True  ...         NaN  NaN        NaN      NaN        NaN  NaN   \n",
       "2415       True  ...         NaN  NaN        NaN      NaN        NaN  NaN   \n",
       "1987      False  ...         NaN  NaN        NaN      NaN        NaN  NaN   \n",
       "2067      False  ...         NaN  NaN        NaN      NaN        NaN  NaN   \n",
       "\n",
       "     Назначение Тематика Упаковка Рисунок  \n",
       "2069        NaN      NaN      NaN     NaN  \n",
       "2068        NaN      NaN      NaN     NaN  \n",
       "1854        NaN      NaN      NaN     NaN  \n",
       "1851        NaN      NaN      NaN     NaN  \n",
       "1877        NaN      NaN      NaN     NaN  \n",
       "...         ...      ...      ...     ...  \n",
       "2032        NaN      NaN      NaN     NaN  \n",
       "2416        NaN      NaN      NaN     NaN  \n",
       "2415        NaN      NaN      NaN     NaN  \n",
       "1987        NaN      NaN      NaN     NaN  \n",
       "2067        NaN      NaN      NaN     NaN  \n",
       "\n",
       "[2461 rows x 41 columns]"
      ]
     },
     "execution_count": 16,
     "metadata": {},
     "output_type": "execute_result"
    }
   ],
   "source": [
    "df"
   ]
  },
  {
   "cell_type": "code",
   "execution_count": null,
   "metadata": {},
   "outputs": [],
   "source": []
  }
 ],
 "metadata": {
  "kernelspec": {
   "display_name": "Python 3",
   "language": "python",
   "name": "python3"
  },
  "language_info": {
   "codemirror_mode": {
    "name": "ipython",
    "version": 3
   },
   "file_extension": ".py",
   "mimetype": "text/x-python",
   "name": "python",
   "nbconvert_exporter": "python",
   "pygments_lexer": "ipython3",
   "version": "3.7.4"
  }
 },
 "nbformat": 4,
 "nbformat_minor": 2
}
